{
 "cells": [
  {
   "cell_type": "code",
   "execution_count": 11,
   "id": "c17e8751-7f90-40a6-bc71-a92eb9b34828",
   "metadata": {},
   "outputs": [],
   "source": [
    "#pip install langchain langchain-experimental openai pymysql"
   ]
  },
  {
   "cell_type": "code",
   "execution_count": 12,
   "id": "b2abca2d-310b-4288-9859-09d9e120a887",
   "metadata": {},
   "outputs": [],
   "source": [
    "from langchain.utilities import SQLDatabase\n",
    "from langchain.llms import OpenAI\n",
    "from langchain_experimental.sql import SQLDatabaseChain\n",
    "from langchain.prompts import PromptTemplate\n",
    "from langchain.prompts.chat import HumanMessagePromptTemplate\n",
    "from langchain.chat_models import ChatOpenAI\n",
    "from langchain.schema import HumanMessage, SystemMessage\n",
    "\n",
    "#initialize the llm\n",
    "OPENAI_API_KEY=\"sk-proj-xb4t01kHNIFwlXU_70fHGaVbC5uURYMh5U6GzZekXbPe1DphuTzzT3BlbkFJ4wpq6Q2l5yWB3JUlBBtQOV5YwxeLW1ZDL5_AR1G0-iJbPGp09_pAA\"\n",
    "llm=ChatOpenAI(temperature=0,openai_api_key=OPENAI_API_KEY)\n"
   ]
  },
  {
   "cell_type": "code",
   "execution_count": 13,
   "id": "954e1c95-d8f3-4ef0-82df-ab4a9bc91f8a",
   "metadata": {},
   "outputs": [],
   "source": [
    "from urllib.parse import quote_plus\n",
    "host='localhost'\n",
    "port=3306\n",
    "username='root'\n",
    "password=quote_plus('Mysql@1234')\n",
    "database_schema='movies'\n",
    "mysql_uri=f\"mysql+pymysql://{username}:{password}@{host}:{port}/{database_schema}\"\n",
    "db=SQLDatabase.from_uri(mysql_uri, include_tables=['telugumovies_dataset'],sample_rows_in_table_info=2)\n",
    "db_chain=SQLDatabaseChain.from_llm(llm,db,verbose=True)"
   ]
  },
  {
   "cell_type": "code",
   "execution_count": 41,
   "id": "0895d822-5cfb-4e51-88a3-5073fad8f6d9",
   "metadata": {},
   "outputs": [
    {
     "name": "stdout",
     "output_type": "stream",
     "text": [
      "\n",
      "\n",
      "\u001b[1m> Entering new SQLDatabaseChain chain...\u001b[0m\n",
      "how many movies are there?\n",
      "SQLQuery:\u001b[32;1m\u001b[1;3mSELECT COUNT(`ID`) AS TotalMovies FROM telugumovies_dataset;\u001b[0m\n",
      "SQLResult: \u001b[33;1m\u001b[1;3m[(1350,)]\u001b[0m\n",
      "Answer:\u001b[32;1m\u001b[1;3mThere are 2 movies.\u001b[0m\n",
      "\u001b[1m> Finished chain.\u001b[0m\n"
     ]
    },
    {
     "data": {
      "text/plain": [
       "'There are 2 movies in the database.'"
      ]
     },
     "execution_count": 41,
     "metadata": {},
     "output_type": "execute_result"
    }
   ],
   "source": [
    "def retrieve_from_db(query:str)-> str:\n",
    "    db_context=db_chain(query)\n",
    "    db_context=db_context['result'].strip()\n",
    "    return db_context\n",
    "\n",
    "def generate(query):\n",
    "    db_context=retrieve_from_db(query)\n",
    "    system_message=\"\"\"you are a movie database expert specializing in telugu cinema.\n",
    "    your task is to answer users' questions by providing relevant information from a database of Telugu movies.\n",
    "    The database contains the following information for each movie:\n",
    "    -Name of the movie\n",
    "    -Year fo release\n",
    "    -Certificate given by the censor board\n",
    "    -Movie genre\n",
    "    -A brief description or plot of the movie\n",
    "    -Duration in minutes\n",
    "    -IMDb Rating\n",
    "    -Number of people who rated the movie\n",
    "    \n",
    "    Example:\n",
    "    \n",
    "    Input:\n",
    "    Which Telugu movies released in 2021 have the highest IMDb ratings?\n",
    "    \n",
    "    Context:\n",
    "    The Telugu movies released in 2021 with the highest IMDb ratings are :\n",
    "    1. Movie A - EMDb rating: 8.5\n",
    "    2. Movie B - EMDb rating: 8.3\n",
    "    \n",
    "    Output:\n",
    "    The highest-rated Telugu movies released in 2021 are Movie A (IMDb Rating: 8.5) and Movie B(IMDb Rating: 8.3).\n",
    "    \"\"\"\n",
    "    human_qry_template=HumanMessagePromptTemplate.from_template(\n",
    "        \"\"\"Input:\n",
    "        {human_input}\n",
    "        Context:\n",
    "        {db_context}\n",
    "        Output:\n",
    "    \n",
    "        \"\"\"\n",
    "    )\n",
    "    messages=[\n",
    "        SystemMessage(content=system_message),\n",
    "        human_qry_template.format(human_input=query,db_context=db_context)\n",
    "    ]\n",
    "    response=llm(messages).content\n",
    "    return response\n",
    "generate(\"how many movies are thee?\")   \n"
   ]
  },
  {
   "cell_type": "code",
   "execution_count": 39,
   "id": "df8d11f0-f0e9-49e4-bbdf-d10f6bbde5ca",
   "metadata": {},
   "outputs": [
    {
     "name": "stdout",
     "output_type": "stream",
     "text": [
      "\n",
      "\n",
      "\u001b[1m> Entering new SQLDatabaseChain chain...\u001b[0m\n",
      "how many movies IMDb rating above 3?\n",
      "SQLQuery:\u001b[32;1m\u001b[1;3mSELECT COUNT(`ID`) AS `Num_Movies_Above_3`\n",
      "FROM telugumovies_dataset\n",
      "WHERE `Rating` > 3;\u001b[0m\n",
      "SQLResult: \u001b[33;1m\u001b[1;3m[(1327,)]\u001b[0m\n",
      "Answer:\u001b[32;1m\u001b[1;3mThere are 1327 movies with an IMDb rating above 3.\u001b[0m\n",
      "\u001b[1m> Finished chain.\u001b[0m\n"
     ]
    },
    {
     "data": {
      "text/plain": [
       "'There are 1327 movies with an IMDb rating above 3.'"
      ]
     },
     "execution_count": 39,
     "metadata": {},
     "output_type": "execute_result"
    }
   ],
   "source": [
    "# db_context=retrieve_from_db(query)\n",
    "generate(\"how many movies IMDb rating above 3?\")\n",
    "# db_context=db_chain(query)\n",
    "# response=llm(messages).content"
   ]
  },
  {
   "cell_type": "code",
   "execution_count": 43,
   "id": "93ddd364-7c78-4965-a945-2cc7f90e67fd",
   "metadata": {},
   "outputs": [
    {
     "name": "stdout",
     "output_type": "stream",
     "text": [
      "\n",
      "\n",
      "\u001b[1m> Entering new SQLDatabaseChain chain...\u001b[0m\n",
      "what is the best movie?\n",
      "SQLQuery:\u001b[32;1m\u001b[1;3mSELECT `Movie`, `Rating`, `No.of.Ratings` \n",
      "FROM telugumovies_dataset \n",
      "ORDER BY `Rating` DESC, `No.of.Ratings` DESC \n",
      "LIMIT 1;\u001b[0m\n",
      "SQLResult: \u001b[33;1m\u001b[1;3m[('Pichhodu', 9.5, 605)]\u001b[0m\n",
      "Answer:\u001b[32;1m\u001b[1;3mThe best movie is \"Pichhodu\" with a rating of 9.5 and 605 number of ratings.\u001b[0m\n",
      "\u001b[1m> Finished chain.\u001b[0m\n"
     ]
    },
    {
     "data": {
      "text/plain": [
       "'The best Telugu movie is \"Pichhodu\" with an IMDb rating of 9.5 and 605 number of ratings.'"
      ]
     },
     "execution_count": 43,
     "metadata": {},
     "output_type": "execute_result"
    }
   ],
   "source": [
    "generate(\"what is the best movie?\")"
   ]
  },
  {
   "cell_type": "code",
   "execution_count": 45,
   "id": "cbb7a264-35e8-474a-b1d8-857ca266ee15",
   "metadata": {},
   "outputs": [
    {
     "name": "stdout",
     "output_type": "stream",
     "text": [
      "\n",
      "\n",
      "\u001b[1m> Entering new SQLDatabaseChain chain...\u001b[0m\n",
      "what are different values in the column in IMDb rating?\n",
      "SQLQuery:\u001b[32;1m\u001b[1;3mSELECT DISTINCT `Rating` FROM telugumovies_dataset;\u001b[0m\n",
      "SQLResult: \u001b[33;1m\u001b[1;3m[(8.1,), (8.2,), (5.4,), (4.6,), (6.5,), (7.7,), (5.2,), (8.4,), (7.6,), (7.1,), (7.4,), (7.9,), (6.8,), (6.2,), (5.9,), (7.5,), (5.6,), (8.5,), (6.6,), (3.3,), (6.7,), (6.4,), (7.2,), (8.0,), (7.3,), (6.1,), (7.8,), (4.4,), (8.6,), (6.3,), (5.8,), (7.0,), (8.3,), (5.0,), (9.2,), (9.0,), (6.9,), (8.7,), (6.0,), (5.5,), (4.3,), (8.8,), (5.7,), (4.5,), (8.9,), (3.2,), (4.8,), (4.2,), (5.1,), (5.3,), (4.9,), (3.5,), (4.7,), (2.4,), (9.5,), (3.7,), (3.6,), (2.5,), (2.1,), (3.1,), (2.9,), (2.0,), (3.8,), (3.4,), (2.7,), (4.0,), (3.9,), (3.0,), (4.1,), (1.6,), (1.3,), (1.2,), (1.1,), (1.7,), (1.4,), (1.0,)]\u001b[0m\n",
      "Answer:\u001b[32;1m\u001b[1;3mThe different values in the IMDb rating column are: 8.1, 8.2, 5.4, 4.6, 6.5, 7.7, 5.2, 8.4, 7.6, 7.1, 7.4, 7.9, 6.8, 6.2, 5.9, 7.5, 5.6, 8.5, 6.6, 3.3, 6.7, 6.4, 7.2, 8.0, 7.3, 6.1, 7.8, 4.4, 8.6, 6.3, 5.8, 7.0, 8.3, 5.0, 9.2, 9.0, 6.9, 8.7, 6.0, 5.5, 4.3, 8.8, 5.7, 4.5, 8.9, 3.2, 4.8, 4.2, 5.1, 5.3, 4.9, 3.5, 4.7, 2.4, 9.5, 3.7, 3.6, 2.5, 2.1, 3.1, 2.9, 2.0, 3.8, 3.4, 2.7, 4.0, 3.9, 3.0, 4.1, 1.6, 1.3, 1.2, 1.1, 1.7, 1.4, 1.0.\u001b[0m\n",
      "\u001b[1m> Finished chain.\u001b[0m\n"
     ]
    },
    {
     "data": {
      "text/plain": [
       "'The different values in the IMDb rating column are: 8.1, 8.2, 5.4, 4.6, 6.5, 7.7, 5.2, 8.4, 7.6, 7.1, 7.4, 7.9, 6.8, 6.2, 5.9, 7.5, 5.6, 8.5, 6.6, 3.3, 6.7, 6.4, 7.2, 8.0, 7.3, 6.1, 7.8, 4.4, 8.6, 6.3, 5.8, 7.0, 8.3, 5.0, 9.2, 9.0, 6.9, 8.7, 6.0, 5.5, 4.3, 8.8, 5.7, 4.5, 8.9, 3.2, 4.8, 4.2, 5.1, 5.3, 4.9, 3.5, 4.7, 2.4, 9.5, 3.7, 3.6, 2.5, 2.1, 3.1, 2.9, 2.0, 3.8, 3.4, 2.7, 4.0, 3.9, 3.0, 4.1, 1.6, 1.3, 1.2, 1.1, 1.7, 1.4, 1.0.'"
      ]
     },
     "execution_count": 45,
     "metadata": {},
     "output_type": "execute_result"
    }
   ],
   "source": [
    "generate(\"what are different values in the column in IMDb rating?\")"
   ]
  },
  {
   "cell_type": "code",
   "execution_count": 47,
   "id": "e57bb797-0dbf-48a7-a7a7-84afde89d2d2",
   "metadata": {},
   "outputs": [
    {
     "name": "stdout",
     "output_type": "stream",
     "text": [
      "\n",
      "\n",
      "\u001b[1m> Entering new SQLDatabaseChain chain...\u001b[0m\n",
      "what are range of values in the column in IMDb rating?\n",
      "SQLQuery:\u001b[32;1m\u001b[1;3mSELECT MIN(`Rating`) AS Min_Rating, MAX(`Rating`) AS Max_Rating\n",
      "FROM telugumovies_dataset;\u001b[0m\n",
      "SQLResult: \u001b[33;1m\u001b[1;3m[(1.0, 9.5)]\u001b[0m\n",
      "Answer:\u001b[32;1m\u001b[1;3mThe range of values in the IMDb rating column is from 1.0 to 9.5.\u001b[0m\n",
      "\u001b[1m> Finished chain.\u001b[0m\n"
     ]
    },
    {
     "data": {
      "text/plain": [
       "'The range of values in the IMDb rating column is from 1.0 to 9.5.'"
      ]
     },
     "execution_count": 47,
     "metadata": {},
     "output_type": "execute_result"
    }
   ],
   "source": [
    "generate(\"what are range of values in the column in IMDb rating?\")"
   ]
  },
  {
   "cell_type": "code",
   "execution_count": 49,
   "id": "cf982066-e58d-4336-9da3-c79eac46092c",
   "metadata": {},
   "outputs": [
    {
     "name": "stdout",
     "output_type": "stream",
     "text": [
      "\n",
      "\n",
      "\u001b[1m> Entering new SQLDatabaseChain chain...\u001b[0m\n",
      "what is the highest mountain inthe world\n",
      "SQLQuery:\u001b[32;1m\u001b[1;3mSELECT `Movie`, `Rating` \n",
      "FROM telugumovies_dataset \n",
      "ORDER BY `Rating` DESC \n",
      "LIMIT 1;\u001b[0m\n",
      "SQLResult: \u001b[33;1m\u001b[1;3m[('Pichhodu', 9.5)]\u001b[0m\n",
      "Answer:\u001b[32;1m\u001b[1;3mThe highest-rated movie in the dataset is \"Pichhodu\" with a rating of 9.5.\u001b[0m\n",
      "\u001b[1m> Finished chain.\u001b[0m\n"
     ]
    },
    {
     "data": {
      "text/plain": [
       "\"I'm sorry, I specialize in providing information about Telugu movies. If you have any questions related to Telugu cinema, feel free to ask!\""
      ]
     },
     "execution_count": 49,
     "metadata": {},
     "output_type": "execute_result"
    }
   ],
   "source": [
    "generate(\"what is the highest mountain inthe world\")"
   ]
  },
  {
   "cell_type": "code",
   "execution_count": 51,
   "id": "fc5c76be-7dae-4082-87f6-ed499bae13c2",
   "metadata": {},
   "outputs": [
    {
     "name": "stdout",
     "output_type": "stream",
     "text": [
      "\n",
      "\n",
      "\u001b[1m> Entering new SQLDatabaseChain chain...\u001b[0m\n",
      "how many movies are three?\n",
      "SQLQuery:\u001b[32;1m\u001b[1;3mSELECT COUNT(`ID`) AS `TotalMovies` FROM telugumovies_dataset;\u001b[0m\n",
      "SQLResult: \u001b[33;1m\u001b[1;3m[(1350,)]\u001b[0m\n",
      "Answer:\u001b[32;1m\u001b[1;3mThere are 1350 movies in the dataset.\u001b[0m\n",
      "\u001b[1m> Finished chain.\u001b[0m\n"
     ]
    },
    {
     "data": {
      "text/plain": [
       "'There are 1350 movies in the dataset.'"
      ]
     },
     "execution_count": 51,
     "metadata": {},
     "output_type": "execute_result"
    }
   ],
   "source": [
    "generate(\"how many movies are three?\")"
   ]
  },
  {
   "cell_type": "code",
   "execution_count": 53,
   "id": "3e2c0597-7a2b-4e58-b2f5-8c36f754162a",
   "metadata": {},
   "outputs": [
    {
     "name": "stdout",
     "output_type": "stream",
     "text": [
      "\n",
      "\n",
      "\u001b[1m> Entering new SQLDatabaseChain chain...\u001b[0m\n",
      "how many movies are there?\n",
      "SQLQuery:\u001b[32;1m\u001b[1;3mSELECT COUNT(`ID`) AS TotalMovies FROM telugumovies_dataset;\u001b[0m\n",
      "SQLResult: \u001b[33;1m\u001b[1;3m[(1350,)]\u001b[0m\n",
      "Answer:\u001b[32;1m\u001b[1;3mThere are 1350 movies in the dataset.\u001b[0m\n",
      "\u001b[1m> Finished chain.\u001b[0m\n"
     ]
    },
    {
     "data": {
      "text/plain": [
       "'There are 1350 movies in the dataset.'"
      ]
     },
     "execution_count": 53,
     "metadata": {},
     "output_type": "execute_result"
    }
   ],
   "source": [
    "generate(\"how many movies are there?\")"
   ]
  },
  {
   "cell_type": "code",
   "execution_count": null,
   "id": "b786206f-ff33-45c4-9ee4-d8e15dcd2ef6",
   "metadata": {},
   "outputs": [],
   "source": []
  }
 ],
 "metadata": {
  "kernelspec": {
   "display_name": "Python 3 (ipykernel)",
   "language": "python",
   "name": "python3"
  },
  "language_info": {
   "codemirror_mode": {
    "name": "ipython",
    "version": 3
   },
   "file_extension": ".py",
   "mimetype": "text/x-python",
   "name": "python",
   "nbconvert_exporter": "python",
   "pygments_lexer": "ipython3",
   "version": "3.12.4"
  }
 },
 "nbformat": 4,
 "nbformat_minor": 5
}
